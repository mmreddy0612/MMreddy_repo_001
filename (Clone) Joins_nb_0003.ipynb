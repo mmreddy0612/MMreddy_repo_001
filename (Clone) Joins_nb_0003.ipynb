{
 "cells": [
  {
   "cell_type": "code",
   "execution_count": 0,
   "metadata": {
    "application/vnd.databricks.v1+cell": {
     "cellMetadata": {
      "byteLimit": 2048000,
      "rowLimit": 10000
     },
     "inputWidgets": {},
     "nuid": "af1b72b1-456d-421a-978b-b18b31928129",
     "showTitle": false,
     "tableResultSettingsMap": {},
     "title": ""
    }
   },
   "outputs": [],
   "source": [
    "%python\n",
    "# Define the path to the CSV file\n",
    "csv_file_path = \"/Volumes/workspace/mmreddy/people_001/people-100.csv\"\n",
    "\n",
    "# Read the CSV file into a DataFrame\n",
    "df1 = spark.read.csv(csv_file_path, header=True, inferSchema=True)\n",
    "\n",
    "# Display the DataFrame\n",
    "display(df1.limit(5))"
   ]
  },
  {
   "cell_type": "code",
   "execution_count": 0,
   "metadata": {
    "application/vnd.databricks.v1+cell": {
     "cellMetadata": {
      "byteLimit": 2048000,
      "rowLimit": 10000
     },
     "inputWidgets": {},
     "nuid": "d3feb9b9-5f88-4bfc-b889-8a0544df2dad",
     "showTitle": false,
     "tableResultSettingsMap": {},
     "title": ""
    }
   },
   "outputs": [],
   "source": [
    "%python\n",
    "# Select and display a few columns from the DataFrame\n",
    "columns_to_display = [\"Index\", \"First Name\", \"Last Name\", \"Email\"]  # Replace with actual column names\n",
    "display(df1.select(columns_to_display).limit(5))"
   ]
  },
  {
   "cell_type": "code",
   "execution_count": 0,
   "metadata": {
    "application/vnd.databricks.v1+cell": {
     "cellMetadata": {
      "byteLimit": 2048000,
      "rowLimit": 10000
     },
     "inputWidgets": {},
     "nuid": "25c23146-006c-4f8f-adb7-590b5319d425",
     "showTitle": false,
     "tableResultSettingsMap": {},
     "title": ""
    }
   },
   "outputs": [],
   "source": [
    "%python\n",
    "# Define the path to the CSV file\n",
    "csv_file_path = \"/Volumes/workspace/mmreddy/cust_001/customers-100 (1).csv\"\n",
    "\n",
    "# Read the CSV file into a DataFrame\n",
    "df2 = spark.read.csv(csv_file_path, header=True, inferSchema=True)\n",
    "\n",
    "# Display the DataFrame\n",
    "display(df2.limit(5))"
   ]
  },
  {
   "cell_type": "code",
   "execution_count": 0,
   "metadata": {
    "application/vnd.databricks.v1+cell": {
     "cellMetadata": {
      "byteLimit": 2048000,
      "rowLimit": 10000
     },
     "inputWidgets": {},
     "nuid": "a1b72cf2-19e7-4843-98d3-48b1fa43ddf5",
     "showTitle": false,
     "tableResultSettingsMap": {},
     "title": ""
    }
   },
   "outputs": [],
   "source": [
    "%python\n",
    "# Select and display a few columns from the DataFrame\n",
    "columns_to_display = [\"Index\", \"First Name\", \"Last Name\", \"Email\"]  # Replace with actual column names\n",
    "display(df2.select(columns_to_display).limit(5))"
   ]
  },
  {
   "cell_type": "code",
   "execution_count": 0,
   "metadata": {
    "application/vnd.databricks.v1+cell": {
     "cellMetadata": {
      "byteLimit": 2048000,
      "rowLimit": 10000
     },
     "inputWidgets": {},
     "nuid": "8358b23c-6df7-4a0a-abe6-158408956a7b",
     "showTitle": false,
     "tableResultSettingsMap": {},
     "title": ""
    }
   },
   "outputs": [],
   "source": [
    "# Assuming df1 is already defined in the notebook\n",
    "\n",
    "# Perform an inner join on df1 and df2\n",
    "joined_df = df1.join(df2, df1[\"First Name\"] == df2[\"First Name\"], \"inner\")\n",
    "\n",
    "# Display the joined DataFrame\n",
    "display(joined_df)"
   ]
  },
  {
   "cell_type": "code",
   "execution_count": 0,
   "metadata": {
    "application/vnd.databricks.v1+cell": {
     "cellMetadata": {
      "byteLimit": 2048000,
      "rowLimit": 10000
     },
     "inputWidgets": {},
     "nuid": "2dc33c51-b613-4626-b8af-18cc45c0cb91",
     "showTitle": false,
     "tableResultSettingsMap": {},
     "title": ""
    }
   },
   "outputs": [],
   "source": [
    "# Perform an outer join on df1 and df2\n",
    "outer_joined_df = df1.join(df2, df1[\"First Name\"] == df2[\"First Name\"], \"outer\")\n",
    "\n",
    "# Display the outer joined DataFrame\n",
    "display(outer_joined_df)"
   ]
  },
  {
   "cell_type": "code",
   "execution_count": 0,
   "metadata": {
    "application/vnd.databricks.v1+cell": {
     "cellMetadata": {
      "byteLimit": 2048000,
      "rowLimit": 10000
     },
     "inputWidgets": {},
     "nuid": "19100e92-d138-4630-915f-f294cb357648",
     "showTitle": false,
     "tableResultSettingsMap": {},
     "title": ""
    }
   },
   "outputs": [],
   "source": [
    "# Perform a left join on df1 and df2\n",
    "left_joined_df = df1.join(df2, df1[\"First Name\"] == df2[\"First Name\"], \"left\")\n",
    "\n",
    "# Display the left joined DataFrame\n",
    "display(left_joined_df)"
   ]
  },
  {
   "cell_type": "code",
   "execution_count": 0,
   "metadata": {
    "application/vnd.databricks.v1+cell": {
     "cellMetadata": {
      "byteLimit": 2048000,
      "rowLimit": 10000
     },
     "inputWidgets": {},
     "nuid": "ad725b4d-c780-46b0-990e-47d5980fb77a",
     "showTitle": false,
     "tableResultSettingsMap": {},
     "title": ""
    }
   },
   "outputs": [],
   "source": [
    "# Perform a right join on df1 and df2\n",
    "right_joined_df = df1.join(df2, df1[\"First Name\"] == df2[\"First Name\"], \"right\")\n",
    "\n",
    "# Display the right joined DataFrame\n",
    "display(right_joined_df)"
   ]
  },
  {
   "cell_type": "code",
   "execution_count": 0,
   "metadata": {
    "application/vnd.databricks.v1+cell": {
     "cellMetadata": {
      "byteLimit": 2048000,
      "rowLimit": 10000
     },
     "inputWidgets": {},
     "nuid": "5b3f7fae-7eb4-416d-8131-5f0e4c74ee7f",
     "showTitle": false,
     "tableResultSettingsMap": {},
     "title": ""
    }
   },
   "outputs": [],
   "source": [
    "# Perform a cross join on df1 and df2\n",
    "cross_joined_df = df1.crossJoin(df2)\n",
    "\n",
    "# Display the cross joined DataFrame\n",
    "display(cross_joined_df)"
   ]
  }
 ],
 "metadata": {
  "application/vnd.databricks.v1+notebook": {
   "computePreferences": null,
   "dashboards": [],
   "environmentMetadata": {
    "base_environment": "",
    "environment_version": "2"
   },
   "language": "python",
   "notebookMetadata": {
    "pythonIndentUnit": 4
   },
   "notebookName": "(Clone) Joins_nb_0003",
   "widgets": {}
  },
  "language_info": {
   "name": "python"
  }
 },
 "nbformat": 4,
 "nbformat_minor": 0
}
